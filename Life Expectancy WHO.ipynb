{
 "cells": [
  {
   "cell_type": "code",
   "execution_count": 1,
   "id": "f3628dff",
   "metadata": {},
   "outputs": [],
   "source": [
    "import pandas as pd\n",
    "import matplotlib.pyplot as plt\n",
    "import seaborn as sns\n",
    "import numpy as np"
   ]
  },
  {
   "cell_type": "code",
   "execution_count": 2,
   "id": "9da09b56",
   "metadata": {},
   "outputs": [],
   "source": [
    "df = pd.read_csv(r\"H:\\data analysis\\Kaggle\\Life Expectancy Data.csv\")"
   ]
  },
  {
   "cell_type": "code",
   "execution_count": 3,
   "id": "e47cc486",
   "metadata": {},
   "outputs": [
    {
     "data": {
      "text/plain": [
       "Index(['Country', 'Year', 'Status', 'Life expectancy', 'Adult mortality',\n",
       "       'Infant deaths', 'Alcohol', 'Percentage expenditure', 'Hepatitis B',\n",
       "       'Measles', 'BMI', 'Under-five deaths', 'Polio', 'Total expenditure',\n",
       "       'Diphtheria', 'HIV/AIDS', 'GDP', 'Population', 'Thinness  1-19 years',\n",
       "       'Thinness 5-9 years', 'Income composition of resources', 'Schooling'],\n",
       "      dtype='object')"
      ]
     },
     "execution_count": 3,
     "metadata": {},
     "output_type": "execute_result"
    }
   ],
   "source": [
    "df.columns"
   ]
  },
  {
   "cell_type": "code",
   "execution_count": 4,
   "id": "1dcefb37",
   "metadata": {},
   "outputs": [
    {
     "data": {
      "text/html": [
       "<div>\n",
       "<style scoped>\n",
       "    .dataframe tbody tr th:only-of-type {\n",
       "        vertical-align: middle;\n",
       "    }\n",
       "\n",
       "    .dataframe tbody tr th {\n",
       "        vertical-align: top;\n",
       "    }\n",
       "\n",
       "    .dataframe thead th {\n",
       "        text-align: right;\n",
       "    }\n",
       "</style>\n",
       "<table border=\"1\" class=\"dataframe\">\n",
       "  <thead>\n",
       "    <tr style=\"text-align: right;\">\n",
       "      <th></th>\n",
       "      <th>Country</th>\n",
       "      <th>Year</th>\n",
       "      <th>Status</th>\n",
       "      <th>Life expectancy</th>\n",
       "      <th>Adult mortality</th>\n",
       "      <th>Infant deaths</th>\n",
       "      <th>Alcohol</th>\n",
       "      <th>Percentage expenditure</th>\n",
       "      <th>Hepatitis B</th>\n",
       "      <th>Measles</th>\n",
       "      <th>...</th>\n",
       "      <th>Polio</th>\n",
       "      <th>Total expenditure</th>\n",
       "      <th>Diphtheria</th>\n",
       "      <th>HIV/AIDS</th>\n",
       "      <th>GDP</th>\n",
       "      <th>Population</th>\n",
       "      <th>Thinness  1-19 years</th>\n",
       "      <th>Thinness 5-9 years</th>\n",
       "      <th>Income composition of resources</th>\n",
       "      <th>Schooling</th>\n",
       "    </tr>\n",
       "  </thead>\n",
       "  <tbody>\n",
       "    <tr>\n",
       "      <th>0</th>\n",
       "      <td>Afghanistan</td>\n",
       "      <td>2015</td>\n",
       "      <td>Developing</td>\n",
       "      <td>65.0</td>\n",
       "      <td>263.0</td>\n",
       "      <td>62</td>\n",
       "      <td>0.01</td>\n",
       "      <td>71.279624</td>\n",
       "      <td>65.0</td>\n",
       "      <td>1154</td>\n",
       "      <td>...</td>\n",
       "      <td>6.0</td>\n",
       "      <td>8.16</td>\n",
       "      <td>65.0</td>\n",
       "      <td>0.1</td>\n",
       "      <td>584.259210</td>\n",
       "      <td>33736494</td>\n",
       "      <td>17.2</td>\n",
       "      <td>17.3</td>\n",
       "      <td>0.479</td>\n",
       "      <td>10.1</td>\n",
       "    </tr>\n",
       "    <tr>\n",
       "      <th>1</th>\n",
       "      <td>Afghanistan</td>\n",
       "      <td>2014</td>\n",
       "      <td>Developing</td>\n",
       "      <td>59.9</td>\n",
       "      <td>271.0</td>\n",
       "      <td>64</td>\n",
       "      <td>0.01</td>\n",
       "      <td>73.523582</td>\n",
       "      <td>62.0</td>\n",
       "      <td>492</td>\n",
       "      <td>...</td>\n",
       "      <td>58.0</td>\n",
       "      <td>8.18</td>\n",
       "      <td>62.0</td>\n",
       "      <td>0.1</td>\n",
       "      <td>612.696514</td>\n",
       "      <td>327582</td>\n",
       "      <td>17.5</td>\n",
       "      <td>17.5</td>\n",
       "      <td>0.476</td>\n",
       "      <td>10.0</td>\n",
       "    </tr>\n",
       "    <tr>\n",
       "      <th>2</th>\n",
       "      <td>Afghanistan</td>\n",
       "      <td>2013</td>\n",
       "      <td>Developing</td>\n",
       "      <td>59.9</td>\n",
       "      <td>268.0</td>\n",
       "      <td>66</td>\n",
       "      <td>0.01</td>\n",
       "      <td>73.219243</td>\n",
       "      <td>64.0</td>\n",
       "      <td>430</td>\n",
       "      <td>...</td>\n",
       "      <td>62.0</td>\n",
       "      <td>8.13</td>\n",
       "      <td>64.0</td>\n",
       "      <td>0.1</td>\n",
       "      <td>631.744976</td>\n",
       "      <td>31731688</td>\n",
       "      <td>17.7</td>\n",
       "      <td>17.7</td>\n",
       "      <td>0.470</td>\n",
       "      <td>9.9</td>\n",
       "    </tr>\n",
       "    <tr>\n",
       "      <th>3</th>\n",
       "      <td>Afghanistan</td>\n",
       "      <td>2012</td>\n",
       "      <td>Developing</td>\n",
       "      <td>59.5</td>\n",
       "      <td>272.0</td>\n",
       "      <td>69</td>\n",
       "      <td>0.01</td>\n",
       "      <td>78.184215</td>\n",
       "      <td>67.0</td>\n",
       "      <td>2787</td>\n",
       "      <td>...</td>\n",
       "      <td>67.0</td>\n",
       "      <td>8.52</td>\n",
       "      <td>67.0</td>\n",
       "      <td>0.1</td>\n",
       "      <td>669.959000</td>\n",
       "      <td>3696958</td>\n",
       "      <td>17.9</td>\n",
       "      <td>18.0</td>\n",
       "      <td>0.463</td>\n",
       "      <td>9.8</td>\n",
       "    </tr>\n",
       "    <tr>\n",
       "      <th>4</th>\n",
       "      <td>Afghanistan</td>\n",
       "      <td>2011</td>\n",
       "      <td>Developing</td>\n",
       "      <td>59.2</td>\n",
       "      <td>275.0</td>\n",
       "      <td>71</td>\n",
       "      <td>0.01</td>\n",
       "      <td>7.097109</td>\n",
       "      <td>68.0</td>\n",
       "      <td>3013</td>\n",
       "      <td>...</td>\n",
       "      <td>68.0</td>\n",
       "      <td>7.87</td>\n",
       "      <td>68.0</td>\n",
       "      <td>0.1</td>\n",
       "      <td>63.537231</td>\n",
       "      <td>2978599</td>\n",
       "      <td>18.2</td>\n",
       "      <td>18.2</td>\n",
       "      <td>0.454</td>\n",
       "      <td>9.5</td>\n",
       "    </tr>\n",
       "  </tbody>\n",
       "</table>\n",
       "<p>5 rows × 22 columns</p>\n",
       "</div>"
      ],
      "text/plain": [
       "       Country  Year      Status  Life expectancy  Adult mortality  \\\n",
       "0  Afghanistan  2015  Developing             65.0            263.0   \n",
       "1  Afghanistan  2014  Developing             59.9            271.0   \n",
       "2  Afghanistan  2013  Developing             59.9            268.0   \n",
       "3  Afghanistan  2012  Developing             59.5            272.0   \n",
       "4  Afghanistan  2011  Developing             59.2            275.0   \n",
       "\n",
       "   Infant deaths  Alcohol  Percentage expenditure  Hepatitis B  Measles  ...  \\\n",
       "0             62     0.01               71.279624         65.0     1154  ...   \n",
       "1             64     0.01               73.523582         62.0      492  ...   \n",
       "2             66     0.01               73.219243         64.0      430  ...   \n",
       "3             69     0.01               78.184215         67.0     2787  ...   \n",
       "4             71     0.01                7.097109         68.0     3013  ...   \n",
       "\n",
       "   Polio  Total expenditure  Diphtheria  HIV/AIDS         GDP  Population  \\\n",
       "0    6.0               8.16        65.0       0.1  584.259210    33736494   \n",
       "1   58.0               8.18        62.0       0.1  612.696514      327582   \n",
       "2   62.0               8.13        64.0       0.1  631.744976    31731688   \n",
       "3   67.0               8.52        67.0       0.1  669.959000     3696958   \n",
       "4   68.0               7.87        68.0       0.1   63.537231     2978599   \n",
       "\n",
       "   Thinness  1-19 years Thinness 5-9 years  Income composition of resources  \\\n",
       "0                  17.2               17.3                            0.479   \n",
       "1                  17.5               17.5                            0.476   \n",
       "2                  17.7               17.7                            0.470   \n",
       "3                  17.9               18.0                            0.463   \n",
       "4                  18.2               18.2                            0.454   \n",
       "\n",
       "   Schooling  \n",
       "0       10.1  \n",
       "1       10.0  \n",
       "2        9.9  \n",
       "3        9.8  \n",
       "4        9.5  \n",
       "\n",
       "[5 rows x 22 columns]"
      ]
     },
     "execution_count": 4,
     "metadata": {},
     "output_type": "execute_result"
    }
   ],
   "source": [
    "df.head()"
   ]
  },
  {
   "cell_type": "code",
   "execution_count": null,
   "id": "3f80025e",
   "metadata": {},
   "outputs": [],
   "source": []
  },
  {
   "cell_type": "markdown",
   "id": "d3e4c9e5",
   "metadata": {},
   "source": [
    "## Multilinear Regression"
   ]
  },
  {
   "cell_type": "code",
   "execution_count": 5,
   "id": "32e87160",
   "metadata": {},
   "outputs": [],
   "source": [
    "data = df.copy()\n",
    "data = data.dropna()\n",
    "data = data.drop(data.loc[data[\"Population\"]== \"#\"].index)\n",
    "\n",
    "multidata = data.copy()\n",
    "\n",
    "multidata.drop([\"Country\", \"Status\",\"Life expectancy\"], axis=1, inplace=True)             # When we look at the data, Country and Status columns are composed of objects. Because we need to be int or float.\n",
    "\n",
    "x = multidata.iloc[:, :]"
   ]
  },
  {
   "cell_type": "code",
   "execution_count": 6,
   "id": "4bcbf147",
   "metadata": {},
   "outputs": [
    {
     "data": {
      "text/html": [
       "<div>\n",
       "<style scoped>\n",
       "    .dataframe tbody tr th:only-of-type {\n",
       "        vertical-align: middle;\n",
       "    }\n",
       "\n",
       "    .dataframe tbody tr th {\n",
       "        vertical-align: top;\n",
       "    }\n",
       "\n",
       "    .dataframe thead th {\n",
       "        text-align: right;\n",
       "    }\n",
       "</style>\n",
       "<table border=\"1\" class=\"dataframe\">\n",
       "  <thead>\n",
       "    <tr style=\"text-align: right;\">\n",
       "      <th></th>\n",
       "      <th>Country</th>\n",
       "      <th>Year</th>\n",
       "      <th>Status</th>\n",
       "      <th>Life expectancy</th>\n",
       "      <th>Adult mortality</th>\n",
       "      <th>Infant deaths</th>\n",
       "      <th>Alcohol</th>\n",
       "      <th>Percentage expenditure</th>\n",
       "      <th>Hepatitis B</th>\n",
       "      <th>Measles</th>\n",
       "      <th>...</th>\n",
       "      <th>Polio</th>\n",
       "      <th>Total expenditure</th>\n",
       "      <th>Diphtheria</th>\n",
       "      <th>HIV/AIDS</th>\n",
       "      <th>GDP</th>\n",
       "      <th>Population</th>\n",
       "      <th>Thinness  1-19 years</th>\n",
       "      <th>Thinness 5-9 years</th>\n",
       "      <th>Income composition of resources</th>\n",
       "      <th>Schooling</th>\n",
       "    </tr>\n",
       "  </thead>\n",
       "  <tbody>\n",
       "  </tbody>\n",
       "</table>\n",
       "<p>0 rows × 22 columns</p>\n",
       "</div>"
      ],
      "text/plain": [
       "Empty DataFrame\n",
       "Columns: [Country, Year, Status, Life expectancy, Adult mortality, Infant deaths, Alcohol, Percentage expenditure, Hepatitis B, Measles, BMI, Under-five deaths, Polio, Total expenditure, Diphtheria, HIV/AIDS, GDP, Population, Thinness  1-19 years, Thinness 5-9 years, Income composition of resources, Schooling]\n",
       "Index: []\n",
       "\n",
       "[0 rows x 22 columns]"
      ]
     },
     "execution_count": 6,
     "metadata": {},
     "output_type": "execute_result"
    }
   ],
   "source": [
    "data.loc[data[\"Population\"]==\"#\"]"
   ]
  },
  {
   "cell_type": "code",
   "execution_count": 7,
   "id": "6b261f34",
   "metadata": {},
   "outputs": [],
   "source": [
    "y = data[\"Life expectancy\"]"
   ]
  },
  {
   "cell_type": "code",
   "execution_count": 8,
   "id": "aa66e2d0",
   "metadata": {},
   "outputs": [
    {
     "data": {
      "text/plain": [
       "0       65.0\n",
       "1       59.9\n",
       "2       59.9\n",
       "3       59.5\n",
       "4       59.2\n",
       "        ... \n",
       "2933    44.3\n",
       "2934    44.5\n",
       "2935    44.8\n",
       "2936    45.3\n",
       "2937    46.0\n",
       "Name: Life expectancy, Length: 1637, dtype: float64"
      ]
     },
     "execution_count": 8,
     "metadata": {},
     "output_type": "execute_result"
    }
   ],
   "source": [
    "y"
   ]
  },
  {
   "cell_type": "code",
   "execution_count": 9,
   "id": "39912f13",
   "metadata": {},
   "outputs": [],
   "source": [
    "from sklearn.model_selection import train_test_split\n",
    "from sklearn.linear_model import LinearRegression\n",
    "from sklearn.preprocessing import StandardScaler\n",
    "\n",
    "scl = StandardScaler()\n",
    "x = scl.fit_transform(x)\n",
    "xtrain,xtest,ytrain,ytest = train_test_split(x,y,test_size=0.3)\n",
    "lm = LinearRegression()\n",
    "model = lm.fit(xtrain,ytrain)\n"
   ]
  },
  {
   "cell_type": "code",
   "execution_count": 10,
   "id": "278f9019",
   "metadata": {},
   "outputs": [
    {
     "data": {
      "text/plain": [
       "3.578267449544105"
      ]
     },
     "execution_count": 10,
     "metadata": {},
     "output_type": "execute_result"
    }
   ],
   "source": [
    "from sklearn.metrics import mean_squared_error, r2_score\n",
    "rmse = np.sqrt(mean_squared_error(ytrain, model.predict(xtrain)))\n",
    "rmse\n"
   ]
  },
  {
   "cell_type": "code",
   "execution_count": 11,
   "id": "fd2bb90f",
   "metadata": {},
   "outputs": [
    {
     "data": {
      "text/plain": [
       "3.4997262633069965"
      ]
     },
     "execution_count": 11,
     "metadata": {},
     "output_type": "execute_result"
    }
   ],
   "source": [
    "ypredict = lm.predict(xtest)\n",
    "rmse = np.sqrt(mean_squared_error(ytest, model.predict(xtest)))\n",
    "rmse"
   ]
  },
  {
   "cell_type": "code",
   "execution_count": 12,
   "id": "79bdac10",
   "metadata": {},
   "outputs": [
    {
     "data": {
      "text/plain": [
       "3.578267449544105"
      ]
     },
     "execution_count": 12,
     "metadata": {},
     "output_type": "execute_result"
    }
   ],
   "source": [
    "rmse = np.sqrt(mean_squared_error(ytrain, model.predict(xtrain)))\n",
    "rmse"
   ]
  },
  {
   "cell_type": "code",
   "execution_count": 13,
   "id": "a7807347",
   "metadata": {},
   "outputs": [
    {
     "data": {
      "text/plain": [
       "0.913793250187457"
      ]
     },
     "execution_count": 13,
     "metadata": {},
     "output_type": "execute_result"
    }
   ],
   "source": [
    "r2score = np.sqrt(r2_score(ytrain, lm.predict(xtrain)))\n",
    "r2score"
   ]
  },
  {
   "cell_type": "code",
   "execution_count": 14,
   "id": "97859f4e",
   "metadata": {},
   "outputs": [
    {
     "data": {
      "text/plain": [
       "0.9169630372111359"
      ]
     },
     "execution_count": 14,
     "metadata": {},
     "output_type": "execute_result"
    }
   ],
   "source": [
    "y_predict = lm.predict(xtest)\n",
    "r2score = np.sqrt(r2_score(ytest, lm.predict(xtest)))\n",
    "r2score"
   ]
  },
  {
   "cell_type": "markdown",
   "id": "67791f69",
   "metadata": {},
   "source": [
    "## MinMax Scaler result"
   ]
  },
  {
   "cell_type": "code",
   "execution_count": 15,
   "id": "0f5d0020",
   "metadata": {},
   "outputs": [
    {
     "name": "stdout",
     "output_type": "stream",
     "text": [
      "0.9186399602014079\n",
      "0.9051236602835384\n"
     ]
    }
   ],
   "source": [
    "from sklearn.preprocessing import MinMaxScaler\n",
    "\n",
    "scl = MinMaxScaler()\n",
    "x = scl.fit_transform(x)\n",
    "xtrain,xtest,ytrain,ytest = train_test_split(x,y,test_size=0.3)\n",
    "lm = LinearRegression()\n",
    "model = lm.fit(xtrain,ytrain)\n",
    "\n",
    "r2scoretrain = np.sqrt(r2_score(ytrain, lm.predict(xtrain)))\n",
    "print(r2scoretrain)\n",
    "\n",
    "_predict = lm.predict(xtest)\n",
    "r2scoretest = np.sqrt(r2_score(ytest, lm.predict(xtest)))\n",
    "print(r2scoretest)\n"
   ]
  },
  {
   "cell_type": "code",
   "execution_count": 16,
   "id": "9db3a24b",
   "metadata": {},
   "outputs": [
    {
     "data": {
      "text/plain": [
       "array([-2.02016913e+00, -1.18422381e+01,  1.52756397e+02, -2.06668577e+00,\n",
       "        5.46310059e+00, -1.34712499e-01, -1.24294378e+00,  2.07950956e+00,\n",
       "       -1.50650549e+02,  4.06821092e-01,  1.63263661e+00,  9.26076950e-01,\n",
       "       -2.28684404e+01,  3.47979341e+00,  4.57416315e-01, -1.64535317e+00,\n",
       "       -6.14202398e-01,  9.41592952e+00,  1.61551583e+01])"
      ]
     },
     "execution_count": 16,
     "metadata": {},
     "output_type": "execute_result"
    }
   ],
   "source": [
    "lm.coef_"
   ]
  },
  {
   "cell_type": "code",
   "execution_count": 17,
   "id": "a998d1c8",
   "metadata": {},
   "outputs": [
    {
     "data": {
      "text/plain": [
       "57.72024880975616"
      ]
     },
     "execution_count": 17,
     "metadata": {},
     "output_type": "execute_result"
    }
   ],
   "source": [
    "lm.intercept_"
   ]
  },
  {
   "cell_type": "code",
   "execution_count": 18,
   "id": "1648a692",
   "metadata": {},
   "outputs": [
    {
     "data": {
      "text/plain": [
       "1195    64.8\n",
       "2254    64.3\n",
       "595     62.5\n",
       "1296    79.8\n",
       "1473    72.7\n",
       "        ... \n",
       "2405    54.0\n",
       "298     65.0\n",
       "53      49.6\n",
       "1588    74.6\n",
       "603     59.8\n",
       "Name: Life expectancy, Length: 492, dtype: float64"
      ]
     },
     "execution_count": 18,
     "metadata": {},
     "output_type": "execute_result"
    }
   ],
   "source": [
    "ytest"
   ]
  },
  {
   "cell_type": "markdown",
   "id": "032ee637",
   "metadata": {},
   "source": [
    "## Simple linear Regression"
   ]
  },
  {
   "cell_type": "code",
   "execution_count": 19,
   "id": "74afe228",
   "metadata": {},
   "outputs": [
    {
     "name": "stdout",
     "output_type": "stream",
     "text": [
      "test nan\n",
      "train 6.853532009249635\n",
      " \n",
      " **************\n",
      "test 69.90236495142685\n",
      "train 70.22260217957141\n",
      " \n",
      " **************\n",
      "test 17.73332232073434\n",
      "train 16.248887517412886\n",
      " \n",
      " **************\n",
      "test 43.78054752066232\n",
      "train 37.978135467134464\n",
      " \n",
      " **************\n",
      "test 41.08450703805395\n",
      "train 40.48717183396137\n",
      " \n",
      " **************\n",
      "test 8.502446235900196\n",
      "train 22.36024752977142\n",
      " \n",
      " **************\n",
      "test nan\n",
      "train 5.483025879194369\n",
      " \n",
      " **************\n",
      "test 55.0553588304015\n",
      "train 53.53962351973658\n",
      " \n",
      " **************\n",
      "test 14.236710366231748\n",
      "train 20.45026801939088\n",
      " \n",
      " **************\n",
      "test 35.02171121785259\n",
      "train 31.657317841606385\n",
      " \n",
      " **************\n",
      "test 19.82051046911392\n",
      "train 16.7045937559971\n",
      " \n",
      " **************\n",
      "test 38.07394506764262\n",
      "train 31.848232974949088\n",
      " \n",
      " **************\n",
      "test 60.816513364147276\n",
      "train 58.70422755233914\n",
      " \n",
      " **************\n",
      "test 46.33153838044009\n",
      "train 42.55829796090871\n",
      " \n",
      " **************\n",
      "test 3.227760535888623\n",
      "train 1.464115427214453\n",
      " \n",
      " **************\n",
      "test 45.88137583717512\n",
      "train 45.566268407504914\n",
      " \n",
      " **************\n",
      "test 44.023560244977425\n",
      "train 46.35126610467089\n",
      " \n",
      " **************\n",
      "test 75.55994894110182\n",
      "train 70.15195506699666\n",
      " \n",
      " **************\n",
      "test 71.09680913927869\n",
      "train 73.26495007159807\n",
      " \n",
      " **************\n"
     ]
    },
    {
     "name": "stderr",
     "output_type": "stream",
     "text": [
      "C:\\Users\\Lenovo\\AppData\\Local\\Temp\\ipykernel_752\\1058265226.py:14: RuntimeWarning: invalid value encountered in sqrt\n",
      "  r2score = np.sqrt(r2_score(ytest, lm.predict(xtest)))\n",
      "C:\\Users\\Lenovo\\AppData\\Local\\Temp\\ipykernel_752\\1058265226.py:14: RuntimeWarning: invalid value encountered in sqrt\n",
      "  r2score = np.sqrt(r2_score(ytest, lm.predict(xtest)))\n"
     ]
    }
   ],
   "source": [
    "multidata = data.copy()\n",
    "\n",
    "multidata.drop([\"Country\", \"Status\",\"Life expectancy\"], axis=1, inplace=True)             # When we look at the data, Country and Status columns are composed of objects. Because we need to be int or float.\n",
    "\n",
    "x = multidata.iloc[:, :]\n",
    "\n",
    "for i in x.columns:\n",
    "    inpcol = np.array(x[i])\n",
    "    inpcol = inpcol.reshape(-1,1)\n",
    "    xtrain,xtest,ytrain,ytest = train_test_split(inpcol,y,test_size=0.3)\n",
    "    lm = LinearRegression()\n",
    "    model = lm.fit(xtrain,ytrain)\n",
    "    y_predict = lm.predict(xtest)\n",
    "    r2score = np.sqrt(r2_score(ytest, lm.predict(xtest)))\n",
    "    print(\"test\", r2score*100)\n",
    "    r2score = np.sqrt(r2_score(ytrain, lm.predict(xtrain)))\n",
    "    print(\"train\", r2score*100)\n",
    "    print(\" \\n\",\"**************\")\n",
    "    "
   ]
  },
  {
   "cell_type": "code",
   "execution_count": null,
   "id": "07658752",
   "metadata": {},
   "outputs": [],
   "source": []
  },
  {
   "cell_type": "code",
   "execution_count": null,
   "id": "455a6232",
   "metadata": {},
   "outputs": [],
   "source": []
  },
  {
   "cell_type": "markdown",
   "id": "5ad7715b",
   "metadata": {},
   "source": [
    "## Polynomial Regression"
   ]
  },
  {
   "cell_type": "code",
   "execution_count": 20,
   "id": "faeac117",
   "metadata": {},
   "outputs": [],
   "source": [
    "from sklearn.preprocessing import PolynomialFeatures"
   ]
  },
  {
   "cell_type": "code",
   "execution_count": 21,
   "id": "5a5828dc",
   "metadata": {},
   "outputs": [],
   "source": [
    "xt = multidata\n",
    "yt = data[\"Life expectancy\"]\n",
    "\n",
    "xptrain,xptest,yptrain,yptest = train_test_split(xt,yt,test_size=0.3)\n",
    "\n",
    "degree = 2  \n",
    "polyfeat = PolynomialFeatures(degree=degree, include_bias=False)\n",
    "xpoly = polyfeat.fit_transform(xt)\n",
    "xptrain,xptest,yptrain,yptest = train_test_split(xt,yt,test_size=0.3)\n",
    "lm = LinearRegression()\n",
    "\n",
    "modelp = lm.fit(xptrain,yptrain)\n",
    "ypolypred = modelp.predict(xptest)"
   ]
  },
  {
   "cell_type": "code",
   "execution_count": 22,
   "id": "1f2106d9",
   "metadata": {},
   "outputs": [
    {
     "data": {
      "text/plain": [
       "0.9118864614475262"
      ]
     },
     "execution_count": 22,
     "metadata": {},
     "output_type": "execute_result"
    }
   ],
   "source": [
    "r2score = np.sqrt(r2_score(yptrain, modelp.predict(xptrain)))\n",
    "r2score"
   ]
  },
  {
   "cell_type": "code",
   "execution_count": 23,
   "id": "1070ad76",
   "metadata": {},
   "outputs": [
    {
     "data": {
      "text/plain": [
       "0.9197072213830786"
      ]
     },
     "execution_count": 23,
     "metadata": {},
     "output_type": "execute_result"
    }
   ],
   "source": [
    "r2score = np.sqrt(r2_score(yptest, ypolypred))\n",
    "r2score"
   ]
  },
  {
   "cell_type": "code",
   "execution_count": null,
   "id": "904925de",
   "metadata": {},
   "outputs": [],
   "source": []
  },
  {
   "cell_type": "markdown",
   "id": "875ef511",
   "metadata": {},
   "source": [
    "## Decision tree"
   ]
  },
  {
   "cell_type": "code",
   "execution_count": 24,
   "id": "c92568bc",
   "metadata": {},
   "outputs": [],
   "source": [
    "from sklearn import tree\n",
    "dtreg = tree.DecisionTreeRegressor(max_depth=4) \n",
    "xttrain,xttest,yttrain,yttest = train_test_split(xt,yt,test_size=0.3)\n",
    "\n",
    "regtree = dtreg.fit(xttrain,yttrain)    "
   ]
  },
  {
   "cell_type": "code",
   "execution_count": 25,
   "id": "c15f923a",
   "metadata": {},
   "outputs": [],
   "source": [
    "ypred = dtreg.predict(xttest)"
   ]
  },
  {
   "cell_type": "code",
   "execution_count": 26,
   "id": "066bf208",
   "metadata": {},
   "outputs": [
    {
     "data": {
      "text/plain": [
       "94.84144018436727"
      ]
     },
     "execution_count": 26,
     "metadata": {},
     "output_type": "execute_result"
    }
   ],
   "source": [
    "r2score = np.sqrt(r2_score(yttrain, dtreg.predict(xttrain)))\n",
    "r2score*100"
   ]
  },
  {
   "cell_type": "code",
   "execution_count": 27,
   "id": "76e233a0",
   "metadata": {},
   "outputs": [
    {
     "data": {
      "text/plain": [
       "93.47245521092252"
      ]
     },
     "execution_count": 27,
     "metadata": {},
     "output_type": "execute_result"
    }
   ],
   "source": [
    "r2score = np.sqrt(r2_score(yttest, dtreg.predict(xttest)))\n",
    "r2score*100"
   ]
  },
  {
   "cell_type": "code",
   "execution_count": null,
   "id": "3bbb3231",
   "metadata": {},
   "outputs": [],
   "source": []
  },
  {
   "cell_type": "markdown",
   "id": "5651e086",
   "metadata": {},
   "source": [
    "## Random Forest"
   ]
  },
  {
   "cell_type": "code",
   "execution_count": 28,
   "id": "ee0e1d7b",
   "metadata": {},
   "outputs": [],
   "source": [
    "from sklearn.ensemble import RandomForestRegressor\n",
    "\n",
    "xtrain,xtest,ytrain,ytest = train_test_split(xt,yt,test_size=0.3,random_state=0)\n",
    "\n",
    "regr = RandomForestRegressor(max_depth=8, random_state=0)\n",
    "\n",
    "\n",
    "RFmodel = regr.fit(xtrain, ytrain)\n",
    "RFpred = regr.predict(xtest)"
   ]
  },
  {
   "cell_type": "code",
   "execution_count": 29,
   "id": "95af2dc6",
   "metadata": {},
   "outputs": [
    {
     "name": "stdout",
     "output_type": "stream",
     "text": [
      "0.9899129362134675\n",
      "0.9747015877598499\n"
     ]
    }
   ],
   "source": [
    "r2scoretrain = np.sqrt(r2_score(ytrain, RFmodel.predict(xtrain)))\n",
    "print(r2scoretrain)\n",
    "\n",
    "r2scoretest = np.sqrt(r2_score(ytest, RFpred))\n",
    "print(r2scoretest)\n"
   ]
  },
  {
   "cell_type": "code",
   "execution_count": null,
   "id": "5ca6711c",
   "metadata": {},
   "outputs": [],
   "source": []
  },
  {
   "cell_type": "code",
   "execution_count": null,
   "id": "35d08a19",
   "metadata": {},
   "outputs": [],
   "source": []
  }
 ],
 "metadata": {
  "kernelspec": {
   "display_name": "Python 3 (ipykernel)",
   "language": "python",
   "name": "python3"
  },
  "language_info": {
   "codemirror_mode": {
    "name": "ipython",
    "version": 3
   },
   "file_extension": ".py",
   "mimetype": "text/x-python",
   "name": "python",
   "nbconvert_exporter": "python",
   "pygments_lexer": "ipython3",
   "version": "3.11.5"
  }
 },
 "nbformat": 4,
 "nbformat_minor": 5
}
